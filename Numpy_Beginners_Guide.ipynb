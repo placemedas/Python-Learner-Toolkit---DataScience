{
  "nbformat": 4,
  "nbformat_minor": 0,
  "metadata": {
    "colab": {
      "name": "Numpy-Beginners Guide.ipynb",
      "provenance": [],
      "collapsed_sections": [],
      "authorship_tag": "ABX9TyM2zjlsCIVIMEVSlv/4r2WR",
      "include_colab_link": true
    },
    "kernelspec": {
      "name": "python3",
      "display_name": "Python 3"
    }
  },
  "cells": [
    {
      "cell_type": "markdown",
      "metadata": {
        "id": "view-in-github",
        "colab_type": "text"
      },
      "source": [
        "<a href=\"https://colab.research.google.com/github/placemedas/Python-Learner-Toolkit---DataScience/blob/master/Numpy_Beginners_Guide.ipynb\" target=\"_parent\"><img src=\"https://colab.research.google.com/assets/colab-badge.svg\" alt=\"Open In Colab\"/></a>"
      ]
    },
    {
      "cell_type": "code",
      "metadata": {
        "id": "J-nGVfj1bSFT",
        "colab_type": "code",
        "colab": {}
      },
      "source": [
        "import numpy as np"
      ],
      "execution_count": null,
      "outputs": []
    },
    {
      "cell_type": "markdown",
      "metadata": {
        "id": "c0_sogoFwMgZ",
        "colab_type": "text"
      },
      "source": [
        "## Creation of Arrays with different dimension"
      ]
    },
    {
      "cell_type": "code",
      "metadata": {
        "id": "225BiQauba3P",
        "colab_type": "code",
        "colab": {
          "base_uri": "https://localhost:8080/",
          "height": 34
        },
        "outputId": "6248f18a-afff-445a-a89f-7b243e2fa6e9"
      },
      "source": [
        "my1DArray = np.array([1,8,4,6])\n",
        "print(my1DArray)"
      ],
      "execution_count": null,
      "outputs": [
        {
          "output_type": "stream",
          "text": [
            "[1 8 4 6]\n"
          ],
          "name": "stdout"
        }
      ]
    },
    {
      "cell_type": "code",
      "metadata": {
        "id": "NhDoUOkPbiw6",
        "colab_type": "code",
        "colab": {
          "base_uri": "https://localhost:8080/",
          "height": 67
        },
        "outputId": "e211c115-f598-439d-89d8-ce281e63c0b9"
      },
      "source": [
        "my2DArray = np.array([[1,8,4,6],[2,4,9,16],[3,5,10,17]])\n",
        "print(my2DArray)"
      ],
      "execution_count": null,
      "outputs": [
        {
          "output_type": "stream",
          "text": [
            "[[ 1  8  4  6]\n",
            " [ 2  4  9 16]\n",
            " [ 3  5 10 17]]\n"
          ],
          "name": "stdout"
        }
      ]
    },
    {
      "cell_type": "code",
      "metadata": {
        "id": "vW1hdphvb2WS",
        "colab_type": "code",
        "colab": {
          "base_uri": "https://localhost:8080/",
          "height": 101
        },
        "outputId": "3660c812-7823-4317-c288-07bbb6adb2a6"
      },
      "source": [
        "my3DArray = np.array([[[1,2,3,4],[4,5,6,7]],[[3,6,7,8],[9,8,7,6]]])\n",
        "print(my3DArray)"
      ],
      "execution_count": null,
      "outputs": [
        {
          "output_type": "stream",
          "text": [
            "[[[1 2 3 4]\n",
            "  [4 5 6 7]]\n",
            "\n",
            " [[3 6 7 8]\n",
            "  [9 8 7 6]]]\n"
          ],
          "name": "stdout"
        }
      ]
    },
    {
      "cell_type": "code",
      "metadata": {
        "id": "NEg8ivtUcX5w",
        "colab_type": "code",
        "colab": {
          "base_uri": "https://localhost:8080/",
          "height": 34
        },
        "outputId": "e9b915dd-f9a3-40a7-d229-fd1a1e9721b4"
      },
      "source": [
        "print(my2DArray.data)"
      ],
      "execution_count": null,
      "outputs": [
        {
          "output_type": "stream",
          "text": [
            "<memory at 0x7f50d5b0dea0>\n"
          ],
          "name": "stdout"
        }
      ]
    },
    {
      "cell_type": "code",
      "metadata": {
        "id": "QlAVWTAlcjIf",
        "colab_type": "code",
        "colab": {
          "base_uri": "https://localhost:8080/",
          "height": 34
        },
        "outputId": "d8d07620-7b42-4bc4-ae82-1ff6d68c94b7"
      },
      "source": [
        "print(my2DArray.shape)"
      ],
      "execution_count": null,
      "outputs": [
        {
          "output_type": "stream",
          "text": [
            "(3, 4)\n"
          ],
          "name": "stdout"
        }
      ]
    },
    {
      "cell_type": "code",
      "metadata": {
        "id": "-WWM6j2Zcm8P",
        "colab_type": "code",
        "colab": {
          "base_uri": "https://localhost:8080/",
          "height": 34
        },
        "outputId": "1e29ee9e-3deb-4f28-857c-0a8af8628792"
      },
      "source": [
        "print(my2DArray.dtype)"
      ],
      "execution_count": null,
      "outputs": [
        {
          "output_type": "stream",
          "text": [
            "int64\n"
          ],
          "name": "stdout"
        }
      ]
    },
    {
      "cell_type": "code",
      "metadata": {
        "id": "1BavnT4RcspV",
        "colab_type": "code",
        "colab": {
          "base_uri": "https://localhost:8080/",
          "height": 34
        },
        "outputId": "bdeb8107-dbd8-4664-f73e-4258d3928da1"
      },
      "source": [
        "print(my2DArray.strides)"
      ],
      "execution_count": null,
      "outputs": [
        {
          "output_type": "stream",
          "text": [
            "(32, 8)\n"
          ],
          "name": "stdout"
        }
      ]
    },
    {
      "cell_type": "code",
      "metadata": {
        "id": "gvsQKCECcv7Q",
        "colab_type": "code",
        "colab": {
          "base_uri": "https://localhost:8080/",
          "height": 67
        },
        "outputId": "1b5870eb-fe61-4404-88ce-59665b023df1"
      },
      "source": [
        "ones = np.ones((3,4))\n",
        "print(ones)"
      ],
      "execution_count": null,
      "outputs": [
        {
          "output_type": "stream",
          "text": [
            "[[1. 1. 1. 1.]\n",
            " [1. 1. 1. 1.]\n",
            " [1. 1. 1. 1.]]\n"
          ],
          "name": "stdout"
        }
      ]
    },
    {
      "cell_type": "code",
      "metadata": {
        "id": "XGQl1pkneiWP",
        "colab_type": "code",
        "colab": {
          "base_uri": "https://localhost:8080/",
          "height": 67
        },
        "outputId": "a2febcb9-e1f7-45cf-c5e8-9932243af4c0"
      },
      "source": [
        "zeros = np.zeros((3,4),dtype=np.int64)\n",
        "print(zeros)"
      ],
      "execution_count": null,
      "outputs": [
        {
          "output_type": "stream",
          "text": [
            "[[0 0 0 0]\n",
            " [0 0 0 0]\n",
            " [0 0 0 0]]\n"
          ],
          "name": "stdout"
        }
      ]
    },
    {
      "cell_type": "code",
      "metadata": {
        "id": "DGdFaELsep_Y",
        "colab_type": "code",
        "colab": {
          "base_uri": "https://localhost:8080/",
          "height": 50
        },
        "outputId": "66806e6c-1fd2-41a3-d9f8-24d9e95f370d"
      },
      "source": [
        "np.random.random((2,2))"
      ],
      "execution_count": null,
      "outputs": [
        {
          "output_type": "execute_result",
          "data": {
            "text/plain": [
              "array([[0.51888653, 0.69401205],\n",
              "       [0.972346  , 0.32264808]])"
            ]
          },
          "metadata": {
            "tags": []
          },
          "execution_count": 12
        }
      ]
    },
    {
      "cell_type": "code",
      "metadata": {
        "id": "D4HBaNo0e1xb",
        "colab_type": "code",
        "colab": {
          "base_uri": "https://localhost:8080/",
          "height": 67
        },
        "outputId": "2231a46d-0095-4d7d-be95-fcceba2f0bdd"
      },
      "source": [
        "emptyArray = np.empty((3,2))\n",
        "print(emptyArray)"
      ],
      "execution_count": null,
      "outputs": [
        {
          "output_type": "stream",
          "text": [
            "[[3.33399055e-316 0.00000000e+000]\n",
            " [0.00000000e+000 0.00000000e+000]\n",
            " [0.00000000e+000 0.00000000e+000]]\n"
          ],
          "name": "stdout"
        }
      ]
    },
    {
      "cell_type": "code",
      "metadata": {
        "id": "x5WyNFfJfA98",
        "colab_type": "code",
        "colab": {
          "base_uri": "https://localhost:8080/",
          "height": 50
        },
        "outputId": "5f5cf8db-ab78-47a7-fbe6-13bfa5d03311"
      },
      "source": [
        "fullArray = np.full((2,2),7)\n",
        "print(fullArray)"
      ],
      "execution_count": null,
      "outputs": [
        {
          "output_type": "stream",
          "text": [
            "[[7 7]\n",
            " [7 7]]\n"
          ],
          "name": "stdout"
        }
      ]
    },
    {
      "cell_type": "code",
      "metadata": {
        "id": "s6q1JbFifPsS",
        "colab_type": "code",
        "colab": {
          "base_uri": "https://localhost:8080/",
          "height": 34
        },
        "outputId": "13e64502-7ed6-479e-c8b8-73e95118659a"
      },
      "source": [
        "evenSpacedArray = np.arange(10,25,5)\n",
        "print(evenSpacedArray)"
      ],
      "execution_count": null,
      "outputs": [
        {
          "output_type": "stream",
          "text": [
            "[10 15 20]\n"
          ],
          "name": "stdout"
        }
      ]
    },
    {
      "cell_type": "code",
      "metadata": {
        "id": "tCva-zbhfbju",
        "colab_type": "code",
        "colab": {
          "base_uri": "https://localhost:8080/",
          "height": 34
        },
        "outputId": "bae263e2-ee91-42ec-918c-a56f1dfcc4a1"
      },
      "source": [
        "  evenSpacedArray2 = np.linspace(0,2,9)\n",
        "  print(evenSpacedArray2)"
      ],
      "execution_count": null,
      "outputs": [
        {
          "output_type": "stream",
          "text": [
            "[0.   0.25 0.5  0.75 1.   1.25 1.5  1.75 2.  ]\n"
          ],
          "name": "stdout"
        }
      ]
    },
    {
      "cell_type": "code",
      "metadata": {
        "id": "uNFrR8rTfpVR",
        "colab_type": "code",
        "colab": {}
      },
      "source": [
        "#Save a numpy array to a file\n",
        "x = np.arange(0.0,50.0,1)\n",
        "np.savetxt('data.out',x,delimiter = ',')"
      ],
      "execution_count": null,
      "outputs": []
    },
    {
      "cell_type": "code",
      "metadata": {
        "id": "VzED8ehFgJvS",
        "colab_type": "code",
        "colab": {
          "base_uri": "https://localhost:8080/",
          "height": 67
        },
        "outputId": "dec1f483-3843-40a7-e55a-5205adbc5962"
      },
      "source": [
        "# Load numpy array from text\n",
        "z = np.loadtxt('data.out',unpack = True)\n",
        "print(z)"
      ],
      "execution_count": null,
      "outputs": [
        {
          "output_type": "stream",
          "text": [
            "[ 0.  1.  2.  3.  4.  5.  6.  7.  8.  9. 10. 11. 12. 13. 14. 15. 16. 17.\n",
            " 18. 19. 20. 21. 22. 23. 24. 25. 26. 27. 28. 29. 30. 31. 32. 33. 34. 35.\n",
            " 36. 37. 38. 39. 40. 41. 42. 43. 44. 45. 46. 47. 48. 49.]\n"
          ],
          "name": "stdout"
        }
      ]
    },
    {
      "cell_type": "code",
      "metadata": {
        "id": "i6Sc8D7QggYv",
        "colab_type": "code",
        "colab": {
          "base_uri": "https://localhost:8080/",
          "height": 67
        },
        "outputId": "69a4fb52-c59e-497c-ed3b-a9d6dfde4bff"
      },
      "source": [
        "# Loading numpy array using genfromtxt method\n",
        "my_array2 = np.genfromtxt('data.out',skip_header=1,filling_values=-999)\n",
        "print(my_array2)"
      ],
      "execution_count": null,
      "outputs": [
        {
          "output_type": "stream",
          "text": [
            "[ 1.  2.  3.  4.  5.  6.  7.  8.  9. 10. 11. 12. 13. 14. 15. 16. 17. 18.\n",
            " 19. 20. 21. 22. 23. 24. 25. 26. 27. 28. 29. 30. 31. 32. 33. 34. 35. 36.\n",
            " 37. 38. 39. 40. 41. 42. 43. 44. 45. 46. 47. 48. 49.]\n"
          ],
          "name": "stdout"
        }
      ]
    },
    {
      "cell_type": "code",
      "metadata": {
        "id": "ElIVdOG5hUdN",
        "colab_type": "code",
        "colab": {
          "base_uri": "https://localhost:8080/",
          "height": 34
        },
        "outputId": "22a662c7-6561-42ad-8629-c5aa4572d78b"
      },
      "source": [
        "#Print the number of my2DArray's dimensions\n",
        "print(my2DArray.ndim)"
      ],
      "execution_count": null,
      "outputs": [
        {
          "output_type": "stream",
          "text": [
            "2\n"
          ],
          "name": "stdout"
        }
      ]
    },
    {
      "cell_type": "code",
      "metadata": {
        "id": "LQXofQ1FhhOB",
        "colab_type": "code",
        "colab": {
          "base_uri": "https://localhost:8080/",
          "height": 34
        },
        "outputId": "90388b8f-0f06-470c-b1ab-20b5284b308c"
      },
      "source": [
        "#Print the number of my2DArray's elements\n",
        "print(my2DArray.size)"
      ],
      "execution_count": null,
      "outputs": [
        {
          "output_type": "stream",
          "text": [
            "12\n"
          ],
          "name": "stdout"
        }
      ]
    },
    {
      "cell_type": "code",
      "metadata": {
        "id": "DQpKLIELhwT3",
        "colab_type": "code",
        "colab": {
          "base_uri": "https://localhost:8080/",
          "height": 151
        },
        "outputId": "aae03061-e976-4f57-f4eb-22847e0939dd"
      },
      "source": [
        "#Print information about my2DArray's memory layout\n",
        "print(my2DArray.flags)"
      ],
      "execution_count": null,
      "outputs": [
        {
          "output_type": "stream",
          "text": [
            "  C_CONTIGUOUS : True\n",
            "  F_CONTIGUOUS : False\n",
            "  OWNDATA : True\n",
            "  WRITEABLE : True\n",
            "  ALIGNED : True\n",
            "  WRITEBACKIFCOPY : False\n",
            "  UPDATEIFCOPY : False\n",
            "\n"
          ],
          "name": "stdout"
        }
      ]
    },
    {
      "cell_type": "code",
      "metadata": {
        "id": "O-9I__eTiGmm",
        "colab_type": "code",
        "colab": {
          "base_uri": "https://localhost:8080/",
          "height": 34
        },
        "outputId": "0d07ee7c-1fdd-44b6-b999-ecaf7c954cc4"
      },
      "source": [
        "#Print the length of one array element in bytes\n",
        "print(my2DArray.itemsize)"
      ],
      "execution_count": null,
      "outputs": [
        {
          "output_type": "stream",
          "text": [
            "8\n"
          ],
          "name": "stdout"
        }
      ]
    },
    {
      "cell_type": "code",
      "metadata": {
        "id": "GGWA2fiFiUqD",
        "colab_type": "code",
        "colab": {
          "base_uri": "https://localhost:8080/",
          "height": 34
        },
        "outputId": "169b08b8-1305-4f81-a7c2-2e5f5fb1f578"
      },
      "source": [
        "# Print the total consumed bytes by my2DArray\n",
        "print(my2DArray.nbytes)"
      ],
      "execution_count": null,
      "outputs": [
        {
          "output_type": "stream",
          "text": [
            "96\n"
          ],
          "name": "stdout"
        }
      ]
    },
    {
      "cell_type": "markdown",
      "metadata": {
        "id": "RL15WgW7miIH",
        "colab_type": "text"
      },
      "source": [
        "Addition of two numpy arrays with same shape is possible. Example below"
      ]
    },
    {
      "cell_type": "code",
      "metadata": {
        "id": "JERTDtpJiorT",
        "colab_type": "code",
        "colab": {
          "base_uri": "https://localhost:8080/",
          "height": 34
        },
        "outputId": "61c65caa-accb-4cd3-f62c-3ad32e738b46"
      },
      "source": [
        "A = np.ones((6,8))\n",
        "print(A.shape)"
      ],
      "execution_count": null,
      "outputs": [
        {
          "output_type": "stream",
          "text": [
            "(6, 8)\n"
          ],
          "name": "stdout"
        }
      ]
    },
    {
      "cell_type": "code",
      "metadata": {
        "id": "AdlNYlyIlkP4",
        "colab_type": "code",
        "colab": {
          "base_uri": "https://localhost:8080/",
          "height": 34
        },
        "outputId": "b65ab0f6-035c-4137-8c51-6293c3c97356"
      },
      "source": [
        "B = np.random.random((6,8))\n",
        "print(B.shape)"
      ],
      "execution_count": null,
      "outputs": [
        {
          "output_type": "stream",
          "text": [
            "(6, 8)\n"
          ],
          "name": "stdout"
        }
      ]
    },
    {
      "cell_type": "code",
      "metadata": {
        "id": "dP5wsxAqlzqM",
        "colab_type": "code",
        "colab": {
          "base_uri": "https://localhost:8080/",
          "height": 218
        },
        "outputId": "1cd5ce91-1b2a-473e-c227-e37c982f8532"
      },
      "source": [
        "print(A + B)"
      ],
      "execution_count": null,
      "outputs": [
        {
          "output_type": "stream",
          "text": [
            "[[1.72807851 1.7941149  1.98890533 1.19315093 1.2400251  1.73764322\n",
            "  1.97934201 1.66884834]\n",
            " [1.22242052 1.32889086 1.49553694 1.70886645 1.46587158 1.1941176\n",
            "  1.06076101 1.28692383]\n",
            " [1.43367694 1.07607659 1.89912029 1.43555642 1.00016091 1.48445031\n",
            "  1.15852539 1.07651448]\n",
            " [1.73888888 1.10679798 1.88510722 1.54655913 1.34481152 1.58537967\n",
            "  1.14390843 1.1403376 ]\n",
            " [1.54139318 1.61932076 1.68081315 1.55368685 1.31817841 1.69282729\n",
            "  1.87735715 1.59345449]\n",
            " [1.3215482  1.96283568 1.19920478 1.59852762 1.18086503 1.72163011\n",
            "  1.901793   1.85327495]]\n"
          ],
          "name": "stdout"
        }
      ]
    },
    {
      "cell_type": "markdown",
      "metadata": {
        "id": "iVRpxSgxmaw9",
        "colab_type": "text"
      },
      "source": [
        "Two dimensions are compatible when one of the dimension is 1. Example below\n"
      ]
    },
    {
      "cell_type": "code",
      "metadata": {
        "id": "ALet4g6Jl57h",
        "colab_type": "code",
        "colab": {
          "base_uri": "https://localhost:8080/",
          "height": 67
        },
        "outputId": "971c99bc-d089-4dcb-8ba3-7ef2bfd0f40c"
      },
      "source": [
        "x = np.ones((3,4))\n",
        "print(x)"
      ],
      "execution_count": null,
      "outputs": [
        {
          "output_type": "stream",
          "text": [
            "[[1. 1. 1. 1.]\n",
            " [1. 1. 1. 1.]\n",
            " [1. 1. 1. 1.]]\n"
          ],
          "name": "stdout"
        }
      ]
    },
    {
      "cell_type": "code",
      "metadata": {
        "id": "nT0ZzAJ9mH73",
        "colab_type": "code",
        "colab": {
          "base_uri": "https://localhost:8080/",
          "height": 34
        },
        "outputId": "12ba5549-ca9e-4c94-ed99-291405a5d0b2"
      },
      "source": [
        "print(x.shape)"
      ],
      "execution_count": null,
      "outputs": [
        {
          "output_type": "stream",
          "text": [
            "(3, 4)\n"
          ],
          "name": "stdout"
        }
      ]
    },
    {
      "cell_type": "code",
      "metadata": {
        "id": "Vn3ft7JImKU5",
        "colab_type": "code",
        "colab": {
          "base_uri": "https://localhost:8080/",
          "height": 34
        },
        "outputId": "99d3cd5a-c470-41c4-ce3e-1419a6c8f43b"
      },
      "source": [
        "y = np.arange(4)\n",
        "print(y)"
      ],
      "execution_count": null,
      "outputs": [
        {
          "output_type": "stream",
          "text": [
            "[0 1 2 3]\n"
          ],
          "name": "stdout"
        }
      ]
    },
    {
      "cell_type": "code",
      "metadata": {
        "id": "FtPGhsSemN8s",
        "colab_type": "code",
        "colab": {
          "base_uri": "https://localhost:8080/",
          "height": 67
        },
        "outputId": "42f29b19-a0bb-4978-d700-417b4f5c528c"
      },
      "source": [
        "print(x-y)"
      ],
      "execution_count": null,
      "outputs": [
        {
          "output_type": "stream",
          "text": [
            "[[ 1.  0. -1. -2.]\n",
            " [ 1.  0. -1. -2.]\n",
            " [ 1.  0. -1. -2.]]\n"
          ],
          "name": "stdout"
        }
      ]
    },
    {
      "cell_type": "markdown",
      "metadata": {
        "id": "LL-qYNZxnjRc",
        "colab_type": "text"
      },
      "source": [
        "### Arrays can be broadcast together if they are compatible in all dimensions. Example below\n",
        "\n",
        "Note:  Changing y to (10,2,8) or (10,1,4) will cause value error as the dimensions change making it incompatible"
      ]
    },
    {
      "cell_type": "code",
      "metadata": {
        "id": "wvz1FjLCmQx_",
        "colab_type": "code",
        "colab": {
          "base_uri": "https://localhost:8080/",
          "height": 605
        },
        "outputId": "781fb64c-5dc5-4693-c8b0-5f7ced27744c"
      },
      "source": [
        "x = np.ones((6,8))\n",
        "y = np.random.random((10,1,8))\n",
        "print(x)\n",
        "print(y)"
      ],
      "execution_count": null,
      "outputs": [
        {
          "output_type": "stream",
          "text": [
            "[[1. 1. 1. 1. 1. 1. 1. 1.]\n",
            " [1. 1. 1. 1. 1. 1. 1. 1.]\n",
            " [1. 1. 1. 1. 1. 1. 1. 1.]\n",
            " [1. 1. 1. 1. 1. 1. 1. 1.]\n",
            " [1. 1. 1. 1. 1. 1. 1. 1.]\n",
            " [1. 1. 1. 1. 1. 1. 1. 1.]]\n",
            "[[[0.2367109  0.40783628 0.43705158 0.95941133 0.30396633 0.33568431\n",
            "   0.4659453  0.9149195 ]]\n",
            "\n",
            " [[0.18500631 0.81964703 0.75406446 0.21021213 0.28419889 0.27182936\n",
            "   0.35994741 0.92807325]]\n",
            "\n",
            " [[0.01670343 0.41183131 0.06597421 0.77816548 0.09885523 0.82589396\n",
            "   0.98588323 0.17644358]]\n",
            "\n",
            " [[0.28999869 0.70300155 0.07904112 0.46848181 0.04386905 0.93342991\n",
            "   0.28140514 0.68741404]]\n",
            "\n",
            " [[0.22632273 0.16921891 0.07578576 0.02243767 0.54411172 0.68991001\n",
            "   0.18811562 0.98960929]]\n",
            "\n",
            " [[0.42279218 0.33367734 0.58001263 0.52498877 0.1233168  0.58589799\n",
            "   0.3778712  0.95750019]]\n",
            "\n",
            " [[0.66247568 0.48506418 0.98799223 0.27188458 0.74658105 0.88241361\n",
            "   0.61595217 0.19911165]]\n",
            "\n",
            " [[0.13134421 0.86313994 0.59387891 0.82174547 0.20193765 0.95103683\n",
            "   0.33142588 0.5647512 ]]\n",
            "\n",
            " [[0.64018331 0.52631332 0.78973098 0.00780132 0.71887352 0.30385073\n",
            "   0.82175156 0.32637282]]\n",
            "\n",
            " [[0.33378038 0.9003732  0.79106479 0.48854617 0.79688617 0.9357997\n",
            "   0.10541426 0.1965472 ]]]\n"
          ],
          "name": "stdout"
        }
      ]
    },
    {
      "cell_type": "code",
      "metadata": {
        "id": "-rhZ3w5em2bY",
        "colab_type": "code",
        "colab": {
          "base_uri": "https://localhost:8080/",
          "height": 1000
        },
        "outputId": "375944d5-c703-41b4-8cf2-b2b1a82a4dc3"
      },
      "source": [
        "print(x+y)"
      ],
      "execution_count": null,
      "outputs": [
        {
          "output_type": "stream",
          "text": [
            "[[[1.2367109  1.40783628 1.43705158 1.95941133 1.30396633 1.33568431\n",
            "   1.4659453  1.9149195 ]\n",
            "  [1.2367109  1.40783628 1.43705158 1.95941133 1.30396633 1.33568431\n",
            "   1.4659453  1.9149195 ]\n",
            "  [1.2367109  1.40783628 1.43705158 1.95941133 1.30396633 1.33568431\n",
            "   1.4659453  1.9149195 ]\n",
            "  [1.2367109  1.40783628 1.43705158 1.95941133 1.30396633 1.33568431\n",
            "   1.4659453  1.9149195 ]\n",
            "  [1.2367109  1.40783628 1.43705158 1.95941133 1.30396633 1.33568431\n",
            "   1.4659453  1.9149195 ]\n",
            "  [1.2367109  1.40783628 1.43705158 1.95941133 1.30396633 1.33568431\n",
            "   1.4659453  1.9149195 ]]\n",
            "\n",
            " [[1.18500631 1.81964703 1.75406446 1.21021213 1.28419889 1.27182936\n",
            "   1.35994741 1.92807325]\n",
            "  [1.18500631 1.81964703 1.75406446 1.21021213 1.28419889 1.27182936\n",
            "   1.35994741 1.92807325]\n",
            "  [1.18500631 1.81964703 1.75406446 1.21021213 1.28419889 1.27182936\n",
            "   1.35994741 1.92807325]\n",
            "  [1.18500631 1.81964703 1.75406446 1.21021213 1.28419889 1.27182936\n",
            "   1.35994741 1.92807325]\n",
            "  [1.18500631 1.81964703 1.75406446 1.21021213 1.28419889 1.27182936\n",
            "   1.35994741 1.92807325]\n",
            "  [1.18500631 1.81964703 1.75406446 1.21021213 1.28419889 1.27182936\n",
            "   1.35994741 1.92807325]]\n",
            "\n",
            " [[1.01670343 1.41183131 1.06597421 1.77816548 1.09885523 1.82589396\n",
            "   1.98588323 1.17644358]\n",
            "  [1.01670343 1.41183131 1.06597421 1.77816548 1.09885523 1.82589396\n",
            "   1.98588323 1.17644358]\n",
            "  [1.01670343 1.41183131 1.06597421 1.77816548 1.09885523 1.82589396\n",
            "   1.98588323 1.17644358]\n",
            "  [1.01670343 1.41183131 1.06597421 1.77816548 1.09885523 1.82589396\n",
            "   1.98588323 1.17644358]\n",
            "  [1.01670343 1.41183131 1.06597421 1.77816548 1.09885523 1.82589396\n",
            "   1.98588323 1.17644358]\n",
            "  [1.01670343 1.41183131 1.06597421 1.77816548 1.09885523 1.82589396\n",
            "   1.98588323 1.17644358]]\n",
            "\n",
            " [[1.28999869 1.70300155 1.07904112 1.46848181 1.04386905 1.93342991\n",
            "   1.28140514 1.68741404]\n",
            "  [1.28999869 1.70300155 1.07904112 1.46848181 1.04386905 1.93342991\n",
            "   1.28140514 1.68741404]\n",
            "  [1.28999869 1.70300155 1.07904112 1.46848181 1.04386905 1.93342991\n",
            "   1.28140514 1.68741404]\n",
            "  [1.28999869 1.70300155 1.07904112 1.46848181 1.04386905 1.93342991\n",
            "   1.28140514 1.68741404]\n",
            "  [1.28999869 1.70300155 1.07904112 1.46848181 1.04386905 1.93342991\n",
            "   1.28140514 1.68741404]\n",
            "  [1.28999869 1.70300155 1.07904112 1.46848181 1.04386905 1.93342991\n",
            "   1.28140514 1.68741404]]\n",
            "\n",
            " [[1.22632273 1.16921891 1.07578576 1.02243767 1.54411172 1.68991001\n",
            "   1.18811562 1.98960929]\n",
            "  [1.22632273 1.16921891 1.07578576 1.02243767 1.54411172 1.68991001\n",
            "   1.18811562 1.98960929]\n",
            "  [1.22632273 1.16921891 1.07578576 1.02243767 1.54411172 1.68991001\n",
            "   1.18811562 1.98960929]\n",
            "  [1.22632273 1.16921891 1.07578576 1.02243767 1.54411172 1.68991001\n",
            "   1.18811562 1.98960929]\n",
            "  [1.22632273 1.16921891 1.07578576 1.02243767 1.54411172 1.68991001\n",
            "   1.18811562 1.98960929]\n",
            "  [1.22632273 1.16921891 1.07578576 1.02243767 1.54411172 1.68991001\n",
            "   1.18811562 1.98960929]]\n",
            "\n",
            " [[1.42279218 1.33367734 1.58001263 1.52498877 1.1233168  1.58589799\n",
            "   1.3778712  1.95750019]\n",
            "  [1.42279218 1.33367734 1.58001263 1.52498877 1.1233168  1.58589799\n",
            "   1.3778712  1.95750019]\n",
            "  [1.42279218 1.33367734 1.58001263 1.52498877 1.1233168  1.58589799\n",
            "   1.3778712  1.95750019]\n",
            "  [1.42279218 1.33367734 1.58001263 1.52498877 1.1233168  1.58589799\n",
            "   1.3778712  1.95750019]\n",
            "  [1.42279218 1.33367734 1.58001263 1.52498877 1.1233168  1.58589799\n",
            "   1.3778712  1.95750019]\n",
            "  [1.42279218 1.33367734 1.58001263 1.52498877 1.1233168  1.58589799\n",
            "   1.3778712  1.95750019]]\n",
            "\n",
            " [[1.66247568 1.48506418 1.98799223 1.27188458 1.74658105 1.88241361\n",
            "   1.61595217 1.19911165]\n",
            "  [1.66247568 1.48506418 1.98799223 1.27188458 1.74658105 1.88241361\n",
            "   1.61595217 1.19911165]\n",
            "  [1.66247568 1.48506418 1.98799223 1.27188458 1.74658105 1.88241361\n",
            "   1.61595217 1.19911165]\n",
            "  [1.66247568 1.48506418 1.98799223 1.27188458 1.74658105 1.88241361\n",
            "   1.61595217 1.19911165]\n",
            "  [1.66247568 1.48506418 1.98799223 1.27188458 1.74658105 1.88241361\n",
            "   1.61595217 1.19911165]\n",
            "  [1.66247568 1.48506418 1.98799223 1.27188458 1.74658105 1.88241361\n",
            "   1.61595217 1.19911165]]\n",
            "\n",
            " [[1.13134421 1.86313994 1.59387891 1.82174547 1.20193765 1.95103683\n",
            "   1.33142588 1.5647512 ]\n",
            "  [1.13134421 1.86313994 1.59387891 1.82174547 1.20193765 1.95103683\n",
            "   1.33142588 1.5647512 ]\n",
            "  [1.13134421 1.86313994 1.59387891 1.82174547 1.20193765 1.95103683\n",
            "   1.33142588 1.5647512 ]\n",
            "  [1.13134421 1.86313994 1.59387891 1.82174547 1.20193765 1.95103683\n",
            "   1.33142588 1.5647512 ]\n",
            "  [1.13134421 1.86313994 1.59387891 1.82174547 1.20193765 1.95103683\n",
            "   1.33142588 1.5647512 ]\n",
            "  [1.13134421 1.86313994 1.59387891 1.82174547 1.20193765 1.95103683\n",
            "   1.33142588 1.5647512 ]]\n",
            "\n",
            " [[1.64018331 1.52631332 1.78973098 1.00780132 1.71887352 1.30385073\n",
            "   1.82175156 1.32637282]\n",
            "  [1.64018331 1.52631332 1.78973098 1.00780132 1.71887352 1.30385073\n",
            "   1.82175156 1.32637282]\n",
            "  [1.64018331 1.52631332 1.78973098 1.00780132 1.71887352 1.30385073\n",
            "   1.82175156 1.32637282]\n",
            "  [1.64018331 1.52631332 1.78973098 1.00780132 1.71887352 1.30385073\n",
            "   1.82175156 1.32637282]\n",
            "  [1.64018331 1.52631332 1.78973098 1.00780132 1.71887352 1.30385073\n",
            "   1.82175156 1.32637282]\n",
            "  [1.64018331 1.52631332 1.78973098 1.00780132 1.71887352 1.30385073\n",
            "   1.82175156 1.32637282]]\n",
            "\n",
            " [[1.33378038 1.9003732  1.79106479 1.48854617 1.79688617 1.9357997\n",
            "   1.10541426 1.1965472 ]\n",
            "  [1.33378038 1.9003732  1.79106479 1.48854617 1.79688617 1.9357997\n",
            "   1.10541426 1.1965472 ]\n",
            "  [1.33378038 1.9003732  1.79106479 1.48854617 1.79688617 1.9357997\n",
            "   1.10541426 1.1965472 ]\n",
            "  [1.33378038 1.9003732  1.79106479 1.48854617 1.79688617 1.9357997\n",
            "   1.10541426 1.1965472 ]\n",
            "  [1.33378038 1.9003732  1.79106479 1.48854617 1.79688617 1.9357997\n",
            "   1.10541426 1.1965472 ]\n",
            "  [1.33378038 1.9003732  1.79106479 1.48854617 1.79688617 1.9357997\n",
            "   1.10541426 1.1965472 ]]]\n"
          ],
          "name": "stdout"
        }
      ]
    },
    {
      "cell_type": "markdown",
      "metadata": {
        "id": "hKSjbnEqoZ1u",
        "colab_type": "text"
      },
      "source": [
        "### Basic Operations on Numpy array"
      ]
    },
    {
      "cell_type": "code",
      "metadata": {
        "id": "uf2pqIvMnvfS",
        "colab_type": "code",
        "colab": {
          "base_uri": "https://localhost:8080/",
          "height": 50
        },
        "outputId": "fa5a4fe4-5cda-47e6-b5cb-1fd2774691a0"
      },
      "source": [
        "x = np.array([[1,2,3],[2,3,4]])\n",
        "y = np.array([[1,4,9],[2,5,10]])\n",
        "add = np.add(x, y)\n",
        "print(add)"
      ],
      "execution_count": null,
      "outputs": [
        {
          "output_type": "stream",
          "text": [
            "[[ 2  6 12]\n",
            " [ 4  8 14]]\n"
          ],
          "name": "stdout"
        }
      ]
    },
    {
      "cell_type": "code",
      "metadata": {
        "id": "bkd58w0Aouce",
        "colab_type": "code",
        "colab": {
          "base_uri": "https://localhost:8080/",
          "height": 50
        },
        "outputId": "021f1a19-439b-4185-b99b-9c250949ffd4"
      },
      "source": [
        "sub = np.subtract(x,y)\n",
        "print(sub)"
      ],
      "execution_count": null,
      "outputs": [
        {
          "output_type": "stream",
          "text": [
            "[[ 0 -2 -6]\n",
            " [ 0 -2 -6]]\n"
          ],
          "name": "stdout"
        }
      ]
    },
    {
      "cell_type": "code",
      "metadata": {
        "id": "3QoAYdIDpLdL",
        "colab_type": "code",
        "colab": {
          "base_uri": "https://localhost:8080/",
          "height": 50
        },
        "outputId": "5242ed83-b0f2-4e23-9f02-e5a4abe985b5"
      },
      "source": [
        "mul = np.multiply(x,y)\n",
        "print(mul)"
      ],
      "execution_count": null,
      "outputs": [
        {
          "output_type": "stream",
          "text": [
            "[[ 1  8 27]\n",
            " [ 4 15 40]]\n"
          ],
          "name": "stdout"
        }
      ]
    },
    {
      "cell_type": "code",
      "metadata": {
        "id": "1dsBACWlpVz-",
        "colab_type": "code",
        "colab": {
          "base_uri": "https://localhost:8080/",
          "height": 50
        },
        "outputId": "6edad492-57c3-40df-ab27-11cfa9add12e"
      },
      "source": [
        "div = np.divide(x,y)\n",
        "print(div)"
      ],
      "execution_count": null,
      "outputs": [
        {
          "output_type": "stream",
          "text": [
            "[[1.         0.5        0.33333333]\n",
            " [1.         0.6        0.4       ]]\n"
          ],
          "name": "stdout"
        }
      ]
    },
    {
      "cell_type": "code",
      "metadata": {
        "id": "ziw28xCppZzB",
        "colab_type": "code",
        "colab": {
          "base_uri": "https://localhost:8080/",
          "height": 50
        },
        "outputId": "6ac259dc-b8c1-44fc-fa48-15e8d1d6f901"
      },
      "source": [
        "rem = np.remainder(x,y)\n",
        "print(rem)"
      ],
      "execution_count": null,
      "outputs": [
        {
          "output_type": "stream",
          "text": [
            "[[0 2 3]\n",
            " [0 3 4]]\n"
          ],
          "name": "stdout"
        }
      ]
    },
    {
      "cell_type": "markdown",
      "metadata": {
        "id": "bDJZ1Sbmp9SF",
        "colab_type": "text"
      },
      "source": [
        "### Create a subset and slice an array using an index"
      ]
    },
    {
      "cell_type": "code",
      "metadata": {
        "id": "D6XFzejfptyH",
        "colab_type": "code",
        "colab": {
          "base_uri": "https://localhost:8080/",
          "height": 50
        },
        "outputId": "145a1dc2-6a7d-468b-f32a-61e2eb4205ec"
      },
      "source": [
        "x = np.array([10,20,30,40,50])\n",
        "print(x)\n",
        "#Select items at indices 0 and 1\n",
        "print(x[0:2])"
      ],
      "execution_count": null,
      "outputs": [
        {
          "output_type": "stream",
          "text": [
            "[10 20 30 40 50]\n",
            "[10 20]\n"
          ],
          "name": "stdout"
        }
      ]
    },
    {
      "cell_type": "code",
      "metadata": {
        "id": "CzBI6UrzqR28",
        "colab_type": "code",
        "colab": {
          "base_uri": "https://localhost:8080/",
          "height": 34
        },
        "outputId": "7ba5258a-1985-4551-af3d-1e2cadf343d5"
      },
      "source": [
        "#Select items at rows 0 and 1 and column 1 from 2D array\n",
        "y = np.array([[1,2,3,4],[9,10,11,12]])\n",
        "print(y[0:2, 1])"
      ],
      "execution_count": null,
      "outputs": [
        {
          "output_type": "stream",
          "text": [
            "[ 2 10]\n"
          ],
          "name": "stdout"
        }
      ]
    },
    {
      "cell_type": "code",
      "metadata": {
        "id": "Yc62mun6qk41",
        "colab_type": "code",
        "colab": {
          "base_uri": "https://localhost:8080/",
          "height": 34
        },
        "outputId": "fbd4c1e4-02ec-42cf-9ea1-220244fa2ad4"
      },
      "source": [
        "biggerThan2 = (y >= 2)\n",
        "print(y[biggerThan2])"
      ],
      "execution_count": null,
      "outputs": [
        {
          "output_type": "stream",
          "text": [
            "[ 2  3  4  9 10 11 12]\n"
          ],
          "name": "stdout"
        }
      ]
    },
    {
      "cell_type": "code",
      "metadata": {
        "id": "fiL6p0g8rGvM",
        "colab_type": "code",
        "colab": {}
      },
      "source": [
        ""
      ],
      "execution_count": null,
      "outputs": []
    }
  ]
}